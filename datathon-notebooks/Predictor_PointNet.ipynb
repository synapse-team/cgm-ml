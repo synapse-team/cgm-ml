{
 "cells": [
  {
   "cell_type": "code",
   "execution_count": null,
   "metadata": {},
   "outputs": [],
   "source": [
    "import sys\n",
    "sys.path.insert(0, \"..\")\n",
    "\n",
    "from keras.models import load_model\n",
    "from cgmcore import modelutils\n",
    "import numpy as np"
   ]
  },
  {
   "cell_type": "code",
   "execution_count": null,
   "metadata": {},
   "outputs": [],
   "source": [
    "input_shape = (800, 3)\n",
    "output_size = 1\n",
    "\n",
    "model_pointnet = modelutils.create_point_net(input_shape, output_size, hidden_sizes = [64])\n",
    "model_pointnet2 = modelutils.create_point_net(input_shape, output_size, hidden_sizes = [64])\n",
    "#model_pointnet.summary()\n",
    "#creation_method = [modelutils.create_point_net]\n",
    "#model = creation_method(input_shape, output_size)\n",
    "#model = create_model(input_shape, output_size)\n"
   ]
  },
  {
   "cell_type": "code",
   "execution_count": null,
   "metadata": {},
   "outputs": [],
   "source": [
    "model_weights_path = \"20181125-0539-pointnet-model-weights.h5\"\n",
    "model_pointnet.load_weights(model_weights_path)\n",
    "model_pointnet.summary()"
   ]
  },
  {
   "cell_type": "code",
   "execution_count": null,
   "metadata": {},
   "outputs": [],
   "source": [
    "# model_weights_path2 = \"20181125-0440-pointnet-model-weights.h5\"\n",
    "# model_pointnet2.load_weights(model_weights_path2)\n",
    "# model_pointnet2.summary()"
   ]
  },
  {
   "cell_type": "code",
   "execution_count": null,
   "metadata": {},
   "outputs": [],
   "source": [
    "from cgmcore.preprocesseddatagenerator import get_dataset_path\n",
    "from cgmcore.preprocesseddatagenerator import create_datagenerator_from_parameters\n",
    "\n",
    "dataset_path = get_dataset_path(\"../../preprocessed_test\")\n",
    "print(\"Using dataset path\", dataset_path)\n",
    "\n",
    "dataset_parameters_pointclouds = {}\n",
    "dataset_parameters_pointclouds[\"input_type\"] = \"pointcloud\"\n",
    "dataset_parameters_pointclouds[\"output_targets\"] = [\"height\"]\n",
    "dataset_parameters_pointclouds[\"random_seed\"] = 25\n",
    "dataset_parameters_pointclouds[\"pointcloud_target_size\"] = 800\n",
    "dataset_parameters_pointclouds[\"pointcloud_random_rotation\"] = False\n",
    "dataset_parameters_pointclouds[\"sequence_length\"] = 0\n",
    "datagenerator_instance_pointclouds = create_datagenerator_from_parameters(dataset_path, dataset_parameters_pointclouds)"
   ]
  },
  {
   "cell_type": "code",
   "execution_count": null,
   "metadata": {},
   "outputs": [],
   "source": [
    "qr_codes_inorder = [\"SAM-GOV-030\", \"SAM-GOV-030\", \"MP_WHH_0319\", \"SAM-SNG-087\", \"SAM-GOV-071\", \"MH_WHH_0063\", \"MH_WHH_1109\", \"MP_WHH_2811\", \"SAM-SNG-067\", \"MP_WHH_2796\", \"MP_WHH_2761\", \"MP_WHH_2656\", \"MP_WHH_0375\", \"MP_WHH_0261\", \"MP_WHH_0407\", \"MP_WHH_2622\", \"MH_WHH_1176\", \"MP_WHH_2665\", \"MP_WHH_2783\", \"MP_WHH_2666\", \"SAM-GOV-067\", \"MP_WHH_0386\", \"MP_WHH_2676\", \"MP_WHH_2639\", \"MH_WHH_1417\", \"MP_WHH_0377\", \"MP_WHH_0077\", \"MP_WHH_0263\", \"MH_WHH_1404\", \"MP_WHH_2765\", \"MP_WHH_0029\", \"MP_WHH_0029\", \"MP_WHH_0063\", \"MP_WHH_2823\", \"MH_WHH_0150\", \"SAM-GOV-003\", \"SAM-GOV-003\", \"MP_WHH_2680\", \"MP_WHH_0359\"] #, \"SAM-GOV-030\", \"MP_WHH_2658\", \"MP_WHH_0319\", \"SAM-SNG-087\", \"SAM-GOV-071\", \"MP_WHH_2655\", \"MH_WHH_0063\", \"MH_WHH_1109\", \"MP_WHH_2811\", \"SAM-SNG-067\", \"MP_WHH_2796\", \"MP_WHH_2761\", \"MP_WHH_2656\", \"MP_WHH_0375\", \"MP_WHH_0059\", \"MP_WHH_0261\", \"MP_WHH_0407\", \"MP_WHH_2622\", \"MH_WHH_1176\", \"MP_WHH_2665\", \"MP_WHH_2783\", \"MP_WHH_2666\", \"SAM-GOV-067\", \"MP_WHH_0386\", \"MP_WHH_2676\", \"MP_WHH_2634\", \"MP_WHH_2639\", \"MH_WHH_1417\", \"MP_WHH_0394\", \"MP_WHH_0377\", \"MP_WHH_2636\", \"MP_WHH_0077\", \"MP_WHH_0263\", \"MH_WHH_1404\", \"MP_WHH_2765\", \"MP_WHH_0043\", \"MP_WHH_0029\", \"MP_WHH_0029\", \"MP_WHH_0395\", \"MP_WHH_0063\", \"MP_WHH_2823\", \"MH_WHH_0150\", \"MP_WHH_0382\", \"SAM-GOV-003\", \"SAM-GOV-003\", \"MP_WHH_0254\", \"MP_WHH_2680\", \"MP_WHH_0359\", \"MH_WHH_0159\", \"MP_WHH_2801\", \"MP_WHH_2526\"]\n",
    "for i in range (0,40):\n",
    "    qr_code = qr_codes_inorder[i:i+1]\n",
    "    generator_pointclouds_test = datagenerator_instance_pointclouds.generate(size=1, qrcodes_to_use=qr_code)#['MP_WHH_0043'])\n",
    "    print(qr_code)\n",
    "    predict = model_pointnet.predict_generator(generator_pointclouds_test,steps=100)\n",
    "    #print(predict)\n",
    "\n",
    "    mean = np.mean(predict)\n",
    "    print(\"mean1\",mean)\n",
    "    std = np.std(predict)\n",
    "    print(\"std\",std,std*100/mean)"
   ]
  },
  {
   "cell_type": "code",
   "execution_count": null,
   "metadata": {},
   "outputs": [],
   "source": [
    "qrcodes_to_use = datagenerator_instance_pointclouds.qrcodes[0:1]\n",
    "print(\"used data\",qrcodes_to_use)\n",
    "generator_pointclouds_test = datagenerator_instance_pointclouds.generate(size=1, qrcodes_to_use=qrcodes_to_use)#['MP_WHH_0043'])\n",
    "print(\"aaa\")\n",
    "# first = next(generator_pointclouds_test)\n",
    "# print(first)\n",
    "predict = model_pointnet.predict_generator(generator_pointclouds_test,steps=63)\n",
    "#predict = model_pointnet.predict(first)\n",
    "print(predict)\n",
    "\n",
    "mean = np.mean(predict)\n",
    "print(\"mean1\",mean)\n",
    "std = np.std(predict)\n",
    "print(\"std\",std,std*100/mean)\n",
    "\n",
    "err\n",
    "    "
   ]
  },
  {
   "cell_type": "code",
   "execution_count": null,
   "metadata": {},
   "outputs": [],
   "source": [
    "import numpy as np\n",
    "#qr_codes_inorder = [\"SAM-GOV-030\", \"SAM-GOV-030\", \"MP_WHH_2658\", \"MP_WHH_0319\", \"SAM-SNG-087\", \"SAM-GOV-071\", \"MP_WHH_2655\", \"MH_WHH_0063\", \"MH_WHH_1109\", \"MP_WHH_2811\", \"SAM-SNG-067\", \"MP_WHH_2796\", \"MP_WHH_2761\", \"MP_WHH_2656\", \"MP_WHH_0375\", \"MP_WHH_0059\", \"MP_WHH_0261\", \"MP_WHH_0407\", \"MP_WHH_2622\", \"MH_WHH_1176\", \"MP_WHH_2665\", \"MP_WHH_2783\", \"MP_WHH_2666\", \"SAM-GOV-067\", \"MP_WHH_0386\", \"MP_WHH_2676\", \"MP_WHH_2634\", \"MP_WHH_2639\", \"MH_WHH_1417\", \"MP_WHH_0394\", \"MP_WHH_0377\", \"MP_WHH_2636\", \"MP_WHH_0077\", \"MP_WHH_0263\", \"MH_WHH_1404\", \"MP_WHH_2765\", \"MP_WHH_0043\", \"MP_WHH_0029\", \"MP_WHH_0029\", \"MP_WHH_0395\", \"MP_WHH_0063\", \"MP_WHH_2823\", \"MH_WHH_0150\", \"MP_WHH_0382\", \"SAM-GOV-003\", \"SAM-GOV-003\", \"MP_WHH_0254\", \"MP_WHH_2680\", \"MP_WHH_0359\", \"MH_WHH_0159\", \"MP_WHH_2801\", \"MP_WHH_2526\"]\n",
    "qr_codes_inorder = [ \"MP_WHH_0319\", \"SAM-SNG-087\", \"SAM-GOV-071\", \"MP_WHH_2655\", \"MH_WHH_0063\", \"MH_WHH_1109\", \"MP_WHH_2811\", \"SAM-SNG-067\", \"MP_WHH_2796\", \"MP_WHH_2761\", \"MP_WHH_2656\", \"MP_WHH_0375\", \"MP_WHH_0059\", \"MP_WHH_0261\", \"MP_WHH_0407\", \"MP_WHH_2622\", \"MH_WHH_1176\", \"MP_WHH_2665\", \"MP_WHH_2783\", \"MP_WHH_2666\", \"SAM-GOV-067\", \"MP_WHH_0386\", \"MP_WHH_2676\", \"MP_WHH_2634\", \"MP_WHH_2639\", \"MH_WHH_1417\", \"MP_WHH_0394\", \"MP_WHH_0377\", \"MP_WHH_2636\", \"MP_WHH_0077\", \"MP_WHH_0263\", \"MH_WHH_1404\", \"MP_WHH_2765\", \"MP_WHH_0043\",\"MP_WHH_0395\", \"MP_WHH_0063\", \"MP_WHH_2823\", \"MH_WHH_0150\", \"MP_WHH_0382\", \"MP_WHH_0254\", \"MP_WHH_2680\", \"MP_WHH_0359\", \"MH_WHH_0159\", \"MP_WHH_2801\", \"MP_WHH_2526\"]\n",
    "for qrcodes_to_use in qr_codes_inorder:\n",
    "    #qrcodes_to_use = datagenerator_instance_pointclouds.qrcodes[i:i+1]\n",
    "    print(\"used data\",qrcodes_to_use)\n",
    "    generator_pointclouds_test = datagenerator_instance_pointclouds.generate(size=30, qrcodes_to_use=qrcodes_to_use)#['MP_WHH_0043'])\n",
    "    print(\"aaa\")\n",
    "    first = next(generator_pointclouds_test)\n",
    "    print(first)\n",
    "    #predict = model_pointnet.predict_generator(generator_pointclouds_test,steps=30)\n",
    "    predict = model_pointnet.predict(first)\n",
    "    print(predict)\n",
    "\n",
    "    mean = np.mean(predict)\n",
    "    print(\"mean1\",mean)\n",
    "    std = np.std(predict)\n",
    "    print(\"std\",std,std*100/mean)\n"
   ]
  },
  {
   "cell_type": "code",
   "execution_count": null,
   "metadata": {},
   "outputs": [],
   "source": [
    "\n",
    "import matplotlib.pyplot as plt\n",
    "plt.boxplot(predict)"
   ]
  }
 ],
 "metadata": {
  "kernelspec": {
   "display_name": "Python 3",
   "language": "python",
   "name": "python3"
  },
  "language_info": {
   "codemirror_mode": {
    "name": "ipython",
    "version": 3
   },
   "file_extension": ".py",
   "mimetype": "text/x-python",
   "name": "python",
   "nbconvert_exporter": "python",
   "pygments_lexer": "ipython3",
   "version": "3.6.5"
  }
 },
 "nbformat": 4,
 "nbformat_minor": 2
}
