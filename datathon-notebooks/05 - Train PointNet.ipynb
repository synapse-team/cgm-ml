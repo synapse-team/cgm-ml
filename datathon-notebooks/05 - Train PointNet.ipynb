{
 "cells": [
  {
   "cell_type": "markdown",
   "metadata": {},
   "source": [
    "# Train PointNet (https://arxiv.org/abs/1612.00593).\n",
    "\n",
    "This notebook shows you how to use the PreprocessedDataGenerator in order to train PointNet.\n",
    "\n",
    "The PreprocessedDataGenerator uses preprocessed-data instead of ETL-data. Wheras ETL-data comes mainly as PCD-files, preprocessed-data comes mainly as pointclouds stored as numpy-arrays. We identified PCD-loading as a bottleneck. "
   ]
  },
  {
   "cell_type": "code",
   "execution_count": 6,
   "metadata": {},
   "outputs": [
    {
     "name": "stdout",
     "output_type": "stream",
     "text": [
      "Once deleted, variables cannot be recovered. Proceed (y/[n])? y\n"
     ]
    }
   ],
   "source": [
    "%reset\n",
    "import sys\n",
    "sys.path.insert(0, \"..\")\n",
    "\n",
    "import numpy as np\n",
    "import os\n",
    "import random"
   ]
  },
  {
   "cell_type": "markdown",
   "metadata": {},
   "source": [
    "# Get the dataset path.\n",
    "\n",
    "This snippet shows you how to get the lates preprocessed path."
   ]
  },
  {
   "cell_type": "code",
   "execution_count": 12,
   "metadata": {},
   "outputs": [
    {
     "name": "stdout",
     "output_type": "stream",
     "text": [
      "Using dataset path ../../data/preprocessed/2018_10_31_14_19_42\n"
     ]
    }
   ],
   "source": [
    "from cgmcore.preprocesseddatagenerator import get_dataset_path\n",
    "#dataset_path = \"../../data/preprocessed/2018_07_31_10_52\"\n",
    "dataset_path = \"../../data/preprocessed/2018_10_31_14_19_42\"\n",
    "print(\"Using dataset path\", dataset_path)"
   ]
  },
  {
   "cell_type": "code",
   "execution_count": 8,
   "metadata": {},
   "outputs": [],
   "source": [
    "lying = [\"SAM-GOV-002\", \"SAM-GOV-045\", \"SAM-GOV-051\", \"SAM-GOV-052\", \"SAM-GOV-063\", \"SAM-GOV-068\", \"SAM-GOV-072\", \"SAM-GOV-082\", \"SAM-GOV-088\", \"SAM-GOV-097\", \"SAM-SNG-052\", \"SAM-SNG-065\", \"MH_WHH_0004\", \"MH_WHH_0028\", \"MH_WHH_0032\", \"MH_WHH_0035\", \"MH_WHH_0042\", \"MH_WHH_0047\", \"MH_WHH_0056\", \"MH_WHH_0152\", \"MH_WHH_0161\", \"MH_WHH_0173\", \"MH_WHH_0187\", \"MH_WHH_2909\", \"MH_WHH_2926\", \"MH_WHH_2930\", \"MH_WHH_2960\", \"MH_WHH_2994\", \"MP_WHH_0031\", \"MP_WHH_0035\", \"MP_WHH_0036\", \"MP_WHH_0037\", \"MP_WHH_0038\", \"MP_WHH_0044\", \"MP_WHH_0048\", \"MP_WHH_0061\", \"MP_WHH_0063\", \"MP_WHH_0101\", \"MP_WHH_0133\", \"MP_WHH_0147\", \"MP_WHH_0150\", \"MP_WHH_0153\", \"MP_WHH_0280\", \"MP_WHH_0282\", \"MP_WHH_0285\", \"MP_WHH_0292\", \"MP_WHH_2608\", \"MP_WHH_2612\", \"MP_WHH_2618\", \"MP_WHH_2619\", \"MP_WHH_2651\", \"MP_WHH_2656\", \"MP_WHH_2667\", \"MP_WHH_2676\", \"MP_WHH_2677\", \"MP_WHH_2696\", \"MP_WHH_2697\", \"MP_WHH_2714\", \"MP_WHH_2716\", \"MP_WHH_2718\", \"MP_WHH_2725\"]"
   ]
  },
  {
   "cell_type": "markdown",
   "metadata": {},
   "source": [
    "# Hyperparameters."
   ]
  },
  {
   "cell_type": "code",
   "execution_count": 9,
   "metadata": {},
   "outputs": [],
   "source": [
    "steps_per_epoch = 20\n",
    "validation_steps = 10\n",
    "epochs = 15\n",
    "batch_size = 100\n",
    "random_seed = 300"
   ]
  },
  {
   "cell_type": "markdown",
   "metadata": {},
   "source": [
    "# Create data-generator.\n",
    "\n",
    "The method create_datagenerator_from_parameters is a convencience method. It allows you to instantiate a generator from a specification-dictionary."
   ]
  },
  {
   "cell_type": "code",
   "execution_count": 13,
   "metadata": {},
   "outputs": [
    {
     "name": "stdout",
     "output_type": "stream",
     "text": [
      "Creating data-generator...\n"
     ]
    }
   ],
   "source": [
    "from cgmcore.preprocesseddatagenerator import create_datagenerator_from_parameters\n",
    "\n",
    "dataset_parameters_pointclouds = {}\n",
    "dataset_parameters_pointclouds[\"input_type\"] = \"pointcloud\"\n",
    "dataset_parameters_pointclouds[\"output_targets\"] = [\"height\"]\n",
    "dataset_parameters_pointclouds[\"random_seed\"] = random_seed\n",
    "dataset_parameters_pointclouds[\"pointcloud_target_size\"] = 1000\n",
    "dataset_parameters_pointclouds[\"pointcloud_random_rotation\"] = False\n",
    "dataset_parameters_pointclouds[\"sequence_length\"] = 0\n",
    "datagenerator_instance_pointclouds = create_datagenerator_from_parameters(dataset_path, dataset_parameters_pointclouds)"
   ]
  },
  {
   "cell_type": "markdown",
   "metadata": {},
   "source": [
    "# Getting the QR-Codes and do a train-validate-split.\n",
    "\n",
    "The data-generator is perfectly capable of retrieving all QR-codes from the dataset. This snipped shows how to do so and how to split the QR-codes into two sets: Train and validate."
   ]
  },
  {
   "cell_type": "code",
   "execution_count": 14,
   "metadata": {},
   "outputs": [],
   "source": [
    "# Get the QR-codes.\n",
    "qrcodes_to_use = datagenerator_instance_pointclouds.qrcodes[0:1500]\n",
    "\n",
    "qrcodes_standing = []\n",
    "for qrcode in qrcodes_to_use:\n",
    "    if qrcode not in lying:\n",
    "        qrcodes_standing.append(qrcode)\n",
    "\n",
    "qrcodes_to_use = qrcodes_standing\n",
    "\n",
    "# Do the split.\n",
    "random.seed(random_seed)\n",
    "qrcodes_shuffle = qrcodes_to_use[:]\n",
    "random.shuffle(qrcodes_shuffle)\n",
    "split_index = int(0.7 * len(qrcodes_shuffle))\n",
    "split_index_1 = int(0.9 * len(qrcodes_shuffle))\n",
    "qrcodes_train = sorted(qrcodes_shuffle[:split_index])\n",
    "qrcodes_validate = sorted(qrcodes_shuffle[split_index:split_index_1])\n",
    "qrcodes_test = sorted(qrcodes_shuffle[split_index_1:])\n",
    "del qrcodes_shuffle\n",
    "#print(\"QR-codes for training:\\n\", \"\\t\".join(qrcodes_train))\n",
    "#print(\"QR-codes for validation:\\n\", \"\\t\".join(qrcodes_validate))"
   ]
  },
  {
   "cell_type": "markdown",
   "metadata": {},
   "source": [
    "# Creating python generators for training and validation.\n",
    "\n",
    "Now both QR-codes lists can be used for creating the actual generators. One for training and one for validation."
   ]
  },
  {
   "cell_type": "code",
   "execution_count": 15,
   "metadata": {},
   "outputs": [],
   "source": [
    "# Create python generators.\n",
    "generator_pointclouds_train = datagenerator_instance_pointclouds.generate(size=batch_size, qrcodes_to_use=qrcodes_train)\n",
    "generator_pointclouds_validate = datagenerator_instance_pointclouds.generate(size=batch_size, qrcodes_to_use=qrcodes_validate)\n",
    "generator_pointclouds_test = datagenerator_instance_pointclouds.generate(size=batch_size, qrcodes_to_use=qrcodes_test)"
   ]
  },
  {
   "cell_type": "markdown",
   "metadata": {},
   "source": [
    "# Using the generator to create data manually.\n",
    "\n",
    "Of course you can use the generator to create data manually anytime."
   ]
  },
  {
   "cell_type": "code",
   "execution_count": 16,
   "metadata": {},
   "outputs": [
    {
     "name": "stdout",
     "output_type": "stream",
     "text": [
      "Input-shape: (100, 1000, 3)\n",
      "Output-shape: (100, 1)\n"
     ]
    }
   ],
   "source": [
    "train_x, train_y = next(generator_pointclouds_train)\n",
    "print(\"Input-shape:\", train_x.shape)\n",
    "print(\"Output-shape:\", train_y.shape)"
   ]
  },
  {
   "cell_type": "markdown",
   "metadata": {},
   "source": [
    "# Training-details.\n",
    "\n",
    "Training-details are a dictionary that gets stored in a file after training. It is supposed to contain information that is valuable. For example data that is relevant for training including the hyper-parameters. Intended to be used when comparing different models."
   ]
  },
  {
   "cell_type": "code",
   "execution_count": 17,
   "metadata": {},
   "outputs": [],
   "source": [
    "training_details = {\n",
    "    \"dataset_path\" : dataset_path,\n",
    "    \"qrcodes_train\" : qrcodes_train,\n",
    "    \"qrcodes_validate\" : qrcodes_validate,\n",
    "    \"steps_per_epoch\" : steps_per_epoch,\n",
    "    \"validation_steps\" : validation_steps,\n",
    "    \"epochs\" : epochs,\n",
    "    \"batch_size\" : batch_size,\n",
    "    \"random_seed\" : random_seed,\n",
    "}"
   ]
  },
  {
   "cell_type": "markdown",
   "metadata": {},
   "source": [
    "# Training PointNet.\n",
    "\n",
    "The module modelutils contains methods for creating Neural Nets. The following code shows how to instantiate and train PointNet."
   ]
  },
  {
   "cell_type": "code",
   "execution_count": 18,
   "metadata": {
    "scrolled": true
   },
   "outputs": [
    {
     "name": "stderr",
     "output_type": "stream",
     "text": [
      "Using TensorFlow backend.\n"
     ]
    },
    {
     "name": "stdout",
     "output_type": "stream",
     "text": [
      "_________________________________________________________________\n",
      "Layer (type)                 Output Shape              Param #   \n",
      "=================================================================\n",
      "input_1 (InputLayer)         (None, 1000, 3)           0         \n",
      "_________________________________________________________________\n",
      "lambda_1 (Lambda)            (None, 1000, 3)           0         \n",
      "_________________________________________________________________\n",
      "conv1d_4 (Conv1D)            (None, 1000, 64)          256       \n",
      "_________________________________________________________________\n",
      "batch_normalization_6 (Batch (None, 1000, 64)          256       \n",
      "_________________________________________________________________\n",
      "conv1d_5 (Conv1D)            (None, 1000, 64)          4160      \n",
      "_________________________________________________________________\n",
      "batch_normalization_7 (Batch (None, 1000, 64)          256       \n",
      "_________________________________________________________________\n",
      "lambda_2 (Lambda)            (None, 1000, 64)          0         \n",
      "_________________________________________________________________\n",
      "conv1d_9 (Conv1D)            (None, 1000, 64)          4160      \n",
      "_________________________________________________________________\n",
      "batch_normalization_13 (Batc (None, 1000, 64)          256       \n",
      "_________________________________________________________________\n",
      "conv1d_10 (Conv1D)           (None, 1000, 128)         8320      \n",
      "_________________________________________________________________\n",
      "batch_normalization_14 (Batc (None, 1000, 128)         512       \n",
      "_________________________________________________________________\n",
      "conv1d_11 (Conv1D)           (None, 1000, 1024)        132096    \n",
      "_________________________________________________________________\n",
      "batch_normalization_15 (Batc (None, 1000, 1024)        4096      \n",
      "_________________________________________________________________\n",
      "max_pooling1d_3 (MaxPooling1 (None, 1, 1024)           0         \n",
      "_________________________________________________________________\n",
      "dense_7 (Dense)              (None, 1, 64)             65600     \n",
      "_________________________________________________________________\n",
      "batch_normalization_16 (Batc (None, 1, 64)             256       \n",
      "_________________________________________________________________\n",
      "dropout_1 (Dropout)          (None, 1, 64)             0         \n",
      "_________________________________________________________________\n",
      "dense_8 (Dense)              (None, 1, 1)              65        \n",
      "_________________________________________________________________\n",
      "flatten_1 (Flatten)          (None, 1)                 0         \n",
      "=================================================================\n",
      "Total params: 220,289\n",
      "Trainable params: 217,473\n",
      "Non-trainable params: 2,816\n",
      "_________________________________________________________________\n",
      "Epoch 1/15\n",
      "20/20 [==============================] - 108s 5s/step - loss: 6826.5017 - mean_absolute_error: 82.0039 - val_loss: 6315.5145 - val_mean_absolute_error: 78.9264\n",
      "Epoch 2/15\n",
      "20/20 [==============================] - 94s 5s/step - loss: 5825.6534 - mean_absolute_error: 75.6726 - val_loss: 5895.0884 - val_mean_absolute_error: 76.2536\n",
      "Epoch 3/15\n",
      "20/20 [==============================] - 87s 4s/step - loss: 3095.6190 - mean_absolute_error: 53.7172 - val_loss: 1919.0154 - val_mean_absolute_error: 43.1850\n",
      "Epoch 4/15\n",
      "20/20 [==============================] - 80s 4s/step - loss: 824.5864 - mean_absolute_error: 24.1849 - val_loss: 553.3714 - val_mean_absolute_error: 22.4221\n",
      "Epoch 5/15\n",
      "20/20 [==============================] - 75s 4s/step - loss: 470.1241 - mean_absolute_error: 17.3182 - val_loss: 521.2467 - val_mean_absolute_error: 20.8476\n",
      "Epoch 6/15\n",
      "20/20 [==============================] - 75s 4s/step - loss: 436.8207 - mean_absolute_error: 16.7050 - val_loss: 239.6590 - val_mean_absolute_error: 14.0080\n",
      "Epoch 7/15\n",
      "20/20 [==============================] - 77s 4s/step - loss: 417.7346 - mean_absolute_error: 16.3531 - val_loss: 263.2206 - val_mean_absolute_error: 14.6484\n",
      "Epoch 8/15\n",
      "20/20 [==============================] - 77s 4s/step - loss: 403.7074 - mean_absolute_error: 16.0806 - val_loss: 175.3064 - val_mean_absolute_error: 11.6149\n",
      "Epoch 9/15\n",
      "20/20 [==============================] - 74s 4s/step - loss: 402.1686 - mean_absolute_error: 16.2496 - val_loss: 131.5799 - val_mean_absolute_error: 9.8195\n",
      "Epoch 10/15\n",
      "20/20 [==============================] - 77s 4s/step - loss: 371.9221 - mean_absolute_error: 15.3464 - val_loss: 247.9753 - val_mean_absolute_error: 14.2235\n",
      "Epoch 11/15\n",
      "20/20 [==============================] - 76s 4s/step - loss: 368.0442 - mean_absolute_error: 15.2947 - val_loss: 201.0325 - val_mean_absolute_error: 12.5551\n",
      "Epoch 12/15\n",
      "20/20 [==============================] - 73s 4s/step - loss: 359.1765 - mean_absolute_error: 14.9985 - val_loss: 208.4190 - val_mean_absolute_error: 12.6443\n",
      "Epoch 13/15\n",
      "20/20 [==============================] - 75s 4s/step - loss: 352.2561 - mean_absolute_error: 14.9824 - val_loss: 266.1584 - val_mean_absolute_error: 14.4883\n",
      "Epoch 14/15\n",
      "20/20 [==============================] - 76s 4s/step - loss: 364.5183 - mean_absolute_error: 15.2202 - val_loss: 144.0961 - val_mean_absolute_error: 10.3099\n",
      "Epoch 15/15\n",
      "20/20 [==============================] - 76s 4s/step - loss: 336.7629 - mean_absolute_error: 14.7906 - val_loss: 73.2454 - val_mean_absolute_error: 6.9769\n"
     ]
    }
   ],
   "source": [
    "from cgmcore import modelutils\n",
    "from keras import optimizers\n",
    "\n",
    "input_shape = (dataset_parameters_pointclouds[\"pointcloud_target_size\"], 3)\n",
    "output_size = 1\n",
    "model_pointnet = modelutils.create_point_net(input_shape, output_size, hidden_sizes = [64])\n",
    "model_pointnet.summary()\n",
    "\n",
    "sgd =optimizers.SGD(lr=0.0001,decay=1e-6,momentum=0.65,nesterov=True)\n",
    "model_pointnet.compile(\n",
    "    optimizer=sgd,\n",
    "    loss=\"mse\",\n",
    "    metrics=[\"mae\"]\n",
    "    )\n",
    "\n",
    "history = model_pointnet.fit_generator(\n",
    "    generator_pointclouds_train,\n",
    "    steps_per_epoch=steps_per_epoch,\n",
    "    epochs=epochs,\n",
    "    validation_data=generator_pointclouds_validate,\n",
    "    validation_steps=validation_steps\n",
    "    )"
   ]
  },
  {
   "cell_type": "code",
   "execution_count": 21,
   "metadata": {},
   "outputs": [
    {
     "name": "stdout",
     "output_type": "stream",
     "text": [
      "['loss', 'mean_absolute_error']\n"
     ]
    },
    {
     "ename": "TypeError",
     "evalue": "evaluate_generator() got an unexpected keyword argument 'nb_workers'",
     "output_type": "error",
     "traceback": [
      "\u001b[0;31m---------------------------------------------------------------------------\u001b[0m",
      "\u001b[0;31mTypeError\u001b[0m                                 Traceback (most recent call last)",
      "\u001b[0;32m<ipython-input-21-e305d712aa7b>\u001b[0m in \u001b[0;36m<module>\u001b[0;34m\u001b[0m\n\u001b[1;32m      1\u001b[0m \u001b[0mmodel_pointnet\u001b[0m\u001b[0;34m.\u001b[0m\u001b[0mpredict_generator\u001b[0m\u001b[0;34m(\u001b[0m\u001b[0mgenerator_pointclouds_test\u001b[0m\u001b[0;34m,\u001b[0m\u001b[0msteps\u001b[0m\u001b[0;34m=\u001b[0m\u001b[0;36m10\u001b[0m\u001b[0;34m)\u001b[0m\u001b[0;34m\u001b[0m\u001b[0;34m\u001b[0m\u001b[0m\n\u001b[1;32m      2\u001b[0m \u001b[0mprint\u001b[0m\u001b[0;34m(\u001b[0m\u001b[0mmodel_pointnet\u001b[0m\u001b[0;34m.\u001b[0m\u001b[0mmetrics_names\u001b[0m\u001b[0;34m)\u001b[0m\u001b[0;34m\u001b[0m\u001b[0;34m\u001b[0m\u001b[0m\n\u001b[0;32m----> 3\u001b[0;31m \u001b[0mmodel_pointnet\u001b[0m\u001b[0;34m.\u001b[0m\u001b[0mevaluate_generator\u001b[0m\u001b[0;34m(\u001b[0m\u001b[0mgenerator_pointclouds_test\u001b[0m\u001b[0;34m,\u001b[0m\u001b[0msteps\u001b[0m\u001b[0;34m=\u001b[0m\u001b[0;36m100\u001b[0m\u001b[0;34m,\u001b[0m\u001b[0muse_multiprocessing\u001b[0m\u001b[0;34m=\u001b[0m\u001b[0;32mFalse\u001b[0m\u001b[0;34m,\u001b[0m\u001b[0mnb_workers\u001b[0m\u001b[0;34m=\u001b[0m\u001b[0;36m1\u001b[0m\u001b[0;34m)\u001b[0m\u001b[0;34m\u001b[0m\u001b[0;34m\u001b[0m\u001b[0m\n\u001b[0m",
      "\u001b[0;32m~/anaconda3/envs/cgm/lib/python3.6/site-packages/keras/legacy/interfaces.py\u001b[0m in \u001b[0;36mwrapper\u001b[0;34m(*args, **kwargs)\u001b[0m\n\u001b[1;32m     89\u001b[0m                 warnings.warn('Update your `' + object_name + '` call to the ' +\n\u001b[1;32m     90\u001b[0m                               'Keras 2 API: ' + signature, stacklevel=2)\n\u001b[0;32m---> 91\u001b[0;31m             \u001b[0;32mreturn\u001b[0m \u001b[0mfunc\u001b[0m\u001b[0;34m(\u001b[0m\u001b[0;34m*\u001b[0m\u001b[0margs\u001b[0m\u001b[0;34m,\u001b[0m \u001b[0;34m**\u001b[0m\u001b[0mkwargs\u001b[0m\u001b[0;34m)\u001b[0m\u001b[0;34m\u001b[0m\u001b[0;34m\u001b[0m\u001b[0m\n\u001b[0m\u001b[1;32m     92\u001b[0m         \u001b[0mwrapper\u001b[0m\u001b[0;34m.\u001b[0m\u001b[0m_original_function\u001b[0m \u001b[0;34m=\u001b[0m \u001b[0mfunc\u001b[0m\u001b[0;34m\u001b[0m\u001b[0;34m\u001b[0m\u001b[0m\n\u001b[1;32m     93\u001b[0m         \u001b[0;32mreturn\u001b[0m \u001b[0mwrapper\u001b[0m\u001b[0;34m\u001b[0m\u001b[0;34m\u001b[0m\u001b[0m\n",
      "\u001b[0;31mTypeError\u001b[0m: evaluate_generator() got an unexpected keyword argument 'nb_workers'"
     ]
    }
   ],
   "source": [
    "model_pointnet.predict_generator(generator_pointclouds_test,steps=10)\n",
    "print(model_pointnet.metrics_names)\n",
    "model_pointnet.evaluate_generator(generator_pointclouds_test,steps=100,use_multiprocessing=False,nb_workers=1)\n"
   ]
  },
  {
   "cell_type": "markdown",
   "metadata": {},
   "source": [
    "# Saving everything.\n",
    "\n",
    "This saves the model, its history and the training-details to some output directory. The created artifacts can later be uses in order to compare different models."
   ]
  },
  {
   "cell_type": "code",
   "execution_count": 22,
   "metadata": {},
   "outputs": [
    {
     "name": "stdout",
     "output_type": "stream",
     "text": [
      "Saving model and history...\n",
      "WARNING! Failed to save model. Use model-weights instead.\n",
      "Saved model weights to./20181209-0150-pointnet-model-weights.h5\n",
      "Saved training details to./20181209-0150-pointnet-details.p\n",
      "Saved history to./20181209-0150-pointnet-history.p\n"
     ]
    }
   ],
   "source": [
    "output_path = \".\"\n",
    "\n",
    "modelutils.save_model_and_history(output_path, model_pointnet, history, training_details, \"pointnet\")"
   ]
  },
  {
   "cell_type": "code",
   "execution_count": null,
   "metadata": {},
   "outputs": [],
   "source": []
  }
 ],
 "metadata": {
  "kernelspec": {
   "display_name": "Python 3",
   "language": "python",
   "name": "python3"
  },
  "language_info": {
   "codemirror_mode": {
    "name": "ipython",
    "version": 3
   },
   "file_extension": ".py",
   "mimetype": "text/x-python",
   "name": "python",
   "nbconvert_exporter": "python",
   "pygments_lexer": "ipython3",
   "version": "3.6.7"
  }
 },
 "nbformat": 4,
 "nbformat_minor": 2
}
