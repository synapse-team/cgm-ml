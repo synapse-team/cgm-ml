{
 "cells": [
  {
   "cell_type": "code",
   "execution_count": null,
   "metadata": {},
   "outputs": [],
   "source": [
    "import matplotlib.pyplot as plt\n",
    "from mpl_toolkits.mplot3d import Axes3D\n",
    "import numpy as np\n",
    "\n",
    "plane_points = []\n",
    "for i in range(0, 100):\n",
    "    for j in range(0, 100):\n",
    "        plane_points.append((i,j,-1.7*i))\n",
    "#print(plane_points)\n",
    "plane_points = np.asarray(plane_points)\n",
    "fig = plt.figure()\n",
    "ax = fig.add_subplot(111,  projection='3d')\n",
    "ax.set_xlabel(\"x\")\n",
    "ax.set_ylabel(\"y\")\n",
    "ax.set_zlabel(\"z\")\n",
    "ax.set_xlim([0, 100])\n",
    "ax.set_ylim([0, 100])\n",
    "ax.set_zlim([0, 100])\n",
    "ax.scatter(plane_points[:,0], plane_points[:,1], plane_points[:,2])\n",
    "plt.show()"
   ]
  },
  {
   "cell_type": "code",
   "execution_count": null,
   "metadata": {},
   "outputs": [],
   "source": [
    "from sklearn.decomposition import PCA as sklearnPCA\n",
    "sklearn_pca = sklearnPCA(n_components=3)\n",
    "sklearn_pca.fit(plane_points)\n",
    "print(sklearn_pca.components_)\n",
    "print(sklearn_pca.explained_variance_)\n",
    "normal = np.cross(sklearn_pca.components_[0], sklearn_pca.components_[1])"
   ]
  },
  {
   "cell_type": "code",
   "execution_count": null,
   "metadata": {},
   "outputs": [],
   "source": [
    "# -*- coding: utf-8 -*-\n",
    "from __future__ import print_function\n",
    "\n",
    "import numpy as np\n",
    "\n",
    "import pcl.pcl_visualization\n",
    "# from pcl.pcl_registration import icp, gicp, icp_nl\n",
    "\n",
    "cloud = pcl.load_XYZRGB(' ../../data/etl/2018_07_31_10_52/MP_WHH_0031/1538639066091/pcd/pc_MP_WHH_0031_1538639060151_107_012.pcd')\n",
    "visual = pcl.pcl_visualization.CloudViewing()\n",
    "\n",
    "# PointXYZ\n",
    "# visual.ShowMonochromeCloud(cloud)\n",
    "\n",
    "# visual.ShowGrayCloud(cloud, b'cloud')\n",
    "visual.ShowColorCloud(cloud, b'cloud')\n",
    "# visual.ShowColorACloud(cloud, b'cloud')\n",
    "\n",
    "# while True:\n",
    "#     visual.WasStopped()\n",
    "# end\n",
    "\n",
    "flag = True\n",
    "while flag:\n",
    "    flag != visual.WasStopped()\n",
    "end\n",
    "\n",
    "\n"
   ]
  },
  {
   "cell_type": "code",
   "execution_count": null,
   "metadata": {},
   "outputs": [],
   "source": [
    "import pptk\n",
    "import numpy as np\n",
    "P = np.random.rand(100,3)\n",
    "v = pptk.viewer(P)"
   ]
  },
  {
   "cell_type": "code",
   "execution_count": null,
   "metadata": {},
   "outputs": [],
   "source": [
    "def rotate(x, y, z, theta_deg):\n",
    "    theta = theta_deg*2*np.pi/360\n",
    "    x_ = x*np.cos(theta) - z*np.sin(theta)\n",
    "    z_ = x*np.sin(theta) + z*np.cos(theta)\n",
    "    return x_, y, z_"
   ]
  },
  {
   "cell_type": "code",
   "execution_count": null,
   "metadata": {},
   "outputs": [],
   "source": [
    "import numpy as np\n",
    "print(sklearn_pca.components_[0][0])\n",
    "theta = np.arctan(sklearn_pca.components_[0][2]/sklearn_pca.components_[0][0])*360/(2 * np.pi)\n",
    "print(theta)\n",
    "# theta2 = np.arccos(sklearn_pca.components_[0][0])*360/(2 * np.pi)\n",
    "# print(theta2)\n",
    "# theta3 = np.arccos(np.dot(normal, [0, 0, 1]))*360/(2 * np.pi)\n",
    "# print(theta3)"
   ]
  },
  {
   "cell_type": "code",
   "execution_count": null,
   "metadata": {},
   "outputs": [],
   "source": [
    "fig = plt.figure()\n",
    "ax = fig.add_subplot(111,  projection='3d')\n",
    "ax.set_xlabel(\"x\")\n",
    "ax.set_ylabel(\"y\")\n",
    "ax.set_zlabel(\"z\")\n",
    "ax.set_xlim([0, 100])\n",
    "ax.set_ylim([0, 100])\n",
    "ax.set_zlim([0, 100])\n",
    "x1,y1,z1 = rotate(plane_points[:,0], plane_points[:,1], plane_points[:,2], -theta)\n",
    "ax.scatter(x1,y1,z1)\n",
    "plt.show()"
   ]
  },
  {
   "cell_type": "code",
   "execution_count": null,
   "metadata": {},
   "outputs": [],
   "source": []
  },
  {
   "cell_type": "code",
   "execution_count": null,
   "metadata": {},
   "outputs": [],
   "source": []
  }
 ],
 "metadata": {
  "kernelspec": {
   "display_name": "Python 3",
   "language": "python",
   "name": "python3"
  },
  "language_info": {
   "codemirror_mode": {
    "name": "ipython",
    "version": 3
   },
   "file_extension": ".py",
   "mimetype": "text/x-python",
   "name": "python",
   "nbconvert_exporter": "python",
   "pygments_lexer": "ipython3",
   "version": "3.6.5"
  }
 },
 "nbformat": 4,
 "nbformat_minor": 2
}
