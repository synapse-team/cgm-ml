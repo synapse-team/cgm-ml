{
 "cells": [
  {
   "cell_type": "markdown",
   "metadata": {},
   "source": [
    "# ETL.\n",
    "\n",
    "ETL stands for \"extract, transform, load\" and it is exactly what it does. In our case the ETL takes the raw-data, which has been collected using the cell-phones out in the field, and transforms it in a way that makes Data Science easier. In regular intervals the ETL takes generates snapshots of the entire data and stores them in a folder with a timestamp."
   ]
  },
  {
   "cell_type": "code",
   "execution_count": null,
   "metadata": {},
   "outputs": [],
   "source": [
    "# This makes sure that you got access to the cgmcore-module\n",
    "import sys\n",
    "sys.path.insert(0, \"..\")"
   ]
  },
  {
   "cell_type": "markdown",
   "metadata": {},
   "source": [
    "# ETL-Data-Generator.\n",
    "\n",
    "Data-generators are a core concept of Keras (https://stanford.edu/~shervine/blog/keras-how-to-generate-data-on-the-fly). They allow for data-generation on the fly. This includes but is not limited to data-augmentation and data-preprocessing.\n",
    "\n",
    "Throughout the project we make extensive use of data-generators. The ETL-Data-Generator works explicitly on the data as provided by the ETL."
   ]
  },
  {
   "cell_type": "markdown",
   "metadata": {},
   "source": [
    "# Accessing the latest dataset.\n",
    "\n",
    "We provide means to retrieve the latest data-set-path as follows."
   ]
  },
  {
   "cell_type": "code",
   "execution_count": null,
   "metadata": {},
   "outputs": [],
   "source": [
    "from cgmcore.etldatagenerator import get_dataset_path\n",
    "\n",
    "dataset_path = get_dataset_path(\"../../data/etl\")\n",
    "print(\"Using daataset-path {}.\".format(dataset_path))"
   ]
  },
  {
   "cell_type": "markdown",
   "metadata": {},
   "source": [
    "# Finding all PCD-files."
   ]
  },
  {
   "cell_type": "code",
   "execution_count": null,
   "metadata": {},
   "outputs": [],
   "source": [
    "import glob2 as glob\n",
    "import os\n",
    "\n",
    "all_pcd_paths = glob.glob(os.path.join(dataset_path, \"**/*.pcd\"))\n",
    "print(\"Found {} PCD-files.\".format(len(all_pcd_paths)))"
   ]
  },
  {
   "cell_type": "markdown",
   "metadata": {},
   "source": [
    "# Selecting a random PCD-file."
   ]
  },
  {
   "cell_type": "code",
   "execution_count": null,
   "metadata": {},
   "outputs": [],
   "source": [
    "import random\n",
    "random_pcd_paths = []\n",
    "for i in range(0, 9):\n",
    "    random_pcd_path = random.choice(all_pcd_paths)\n",
    "    random_pcd_paths.append(random_pcd_path)\n",
    "    print(\"Using random PCD-path {}.\".format(random_pcd_path))"
   ]
  },
  {
   "cell_type": "markdown",
   "metadata": {},
   "source": [
    "# Loading the pointcloud as a numpy array.\n",
    "\n",
    "This is one of the many helper-functions provided by cgmcore.utils."
   ]
  },
  {
   "cell_type": "code",
   "execution_count": null,
   "metadata": {},
   "outputs": [],
   "source": [
    "from cgmcore.utils import load_pcd_as_ndarray\n",
    "\n",
    "pointclouds = []\n",
    "for i in range(0, 9):\n",
    "    pointcloud = load_pcd_as_ndarray(random_pcd_paths[i])\n",
    "    pointclouds.append(pointcloud)\n",
    "    print(\"Loaded pointcloud with shape {}.\".format(pointcloud.shape))\n",
    "pointcloud_1 = load_pcd_as_ndarray(\"../../data/etl/2018_07_31_10_52/MP_WHH_2519/1540363099245/pcd/pc_MP_WHH_2519_1540362844399_104_011.pcd\")\n"
   ]
  },
  {
   "cell_type": "markdown",
   "metadata": {},
   "source": [
    "# Rendering a pointcloud."
   ]
  },
  {
   "cell_type": "code",
   "execution_count": null,
   "metadata": {},
   "outputs": [],
   "source": [
    "import numpy as np\n",
    "\n",
    "def rotate(x, y, z, theta_deg):\n",
    "    theta = theta_deg*2*np.pi/360\n",
    "    x = x*np.cos(theta) - z*np.sin(theta)\n",
    "    z = x*np.sin(theta) + z*np.cos(theta)\n",
    "    return x, y, z"
   ]
  },
  {
   "cell_type": "code",
   "execution_count": null,
   "metadata": {},
   "outputs": [],
   "source": [
    "import matplotlib.pyplot as plt\n",
    "from mpl_toolkits.mplot3d import Axes3D\n",
    "\n",
    "def render_pointcloud_multiple(multiple_points, title=None):\n",
    "    \"\"\"\n",
    "    Renders a point-cloud.\n",
    "    \"\"\"\n",
    "\n",
    "    fig = plt.figure(figsize=(10, 10))\n",
    "    for i in range(0,4):\n",
    "        for j in range(0,2):\n",
    "            plt.subplot(4,2,i*2+j+1)\n",
    "            ax = fig.add_subplot(4*100+20+i*2+j+1, projection='3d')\n",
    "            points = multiple_points[2*i+j]\n",
    "            ax.scatter(rotate(-points[:,1], points[:,2], points[:,0], 60), s=0.5, cmap=\"gray\", alpha=0.5)\n",
    "\n",
    "            ax.set_xlabel(\"y\")\n",
    "            ax.set_ylabel(\"z\")\n",
    "            ax.set_zlabel(\"x\")\n",
    "\n",
    "    if title != None:\n",
    "        plt.title(title)\n",
    "\n",
    "    plt.show()\n",
    "    plt.close()\n",
    "    \n",
    "def render_pointcloud_single(points, angle, title=None):\n",
    "    \"\"\"\n",
    "    Renders a point-cloud.\n",
    "    \"\"\"\n",
    "\n",
    "    fig = plt.figure(figsize=(3, 3))\n",
    "    ax = fig.add_subplot(111, projection='3d')\n",
    "\n",
    "    x, y, z= rotate(points[:,0], -points[:,1], points[:,2] ,angle)\n",
    "    ax.scatter(y, z, x, s=0.5, cmap=\"gray\", alpha=0.5)\n",
    "\n",
    "    ax.set_xlabel(\"y\")\n",
    "    ax.set_ylabel(\"z\")\n",
    "    ax.set_zlabel(\"x\")\n",
    "\n",
    "    if title != None:\n",
    "        plt.title(title)\n",
    "\n",
    "    plt.show()\n",
    "    #plt.close()"
   ]
  },
  {
   "cell_type": "code",
   "execution_count": null,
   "metadata": {},
   "outputs": [],
   "source": [
    "pointcloud_1.shape"
   ]
  },
  {
   "cell_type": "code",
   "execution_count": null,
   "metadata": {},
   "outputs": [],
   "source": [
    "from random import randint\n",
    "slope = np.zeros(len(pointcloud_1))\n",
    "for i in np.arange(len(pointcloud_1)):\n",
    "    j = randint(0,len(pointcloud_1)-1)\n",
    "    slope[i] = 360/2/np.pi * np.arctan((pointcloud_1[i,2]-pointcloud_1[j,2]))/(pointcloud_1[i,0]-pointcloud_1[j,0])\n",
    "print(slope)\n",
    "print(np.max(slope))\n",
    "plt.figure()\n",
    "plt.hist(slope)\n",
    "plt.xlim([-360,360])"
   ]
  },
  {
   "cell_type": "code",
   "execution_count": null,
   "metadata": {},
   "outputs": [],
   "source": [
    "\n",
    "y90, y95 = np.percentile(pointclouds[8][:,1], [90,95])\n",
    "y5, y10 = np.percentile(pointclouds[8][:,1], [15,20])\n",
    "x5, x10 = np.percentile(pointclouds[8][:,0], [15,20])\n",
    "\n",
    "#print(x5, x10, y5, y10)\n",
    "\n",
    "floor_points = []\n",
    "x_max = -1\n",
    "x_max_idx = 0\n",
    "x_min = 100\n",
    "x_min_idx = 0\n",
    "for x, y, z, c in pointclouds[8]:\n",
    "    if x > x5 and x < x10 and y > y5 and y < y10:\n",
    "        if x > x_max:\n",
    "            x = x_max\n",
    "            \n",
    "        floor_points.append((x, y, z))\n",
    "\n",
    "\n",
    "x_max = np.max(np.asarray(floor_points)[:,0])\n",
    "x_min = np.min(np.asarray(floor_points)[:,0])\n",
    "print(x_max)\n",
    "print(x_min)"
   ]
  },
  {
   "cell_type": "code",
   "execution_count": null,
   "metadata": {},
   "outputs": [],
   "source": [
    "plt.hist(pointclouds[8][:,0])\n"
   ]
  },
  {
   "cell_type": "code",
   "execution_count": null,
   "metadata": {},
   "outputs": [],
   "source": [
    "%matplotlib notebook"
   ]
  },
  {
   "cell_type": "code",
   "execution_count": null,
   "metadata": {},
   "outputs": [],
   "source": [
    "render_pointcloud_single(pointcloud_1,0, \"A random pointcloud\")"
   ]
  },
  {
   "cell_type": "code",
   "execution_count": null,
   "metadata": {},
   "outputs": [],
   "source": [
    "def rotate(x, y, z, theta_deg):\n",
    "    theta = theta_deg*2*np.pi/360\n",
    "    x_ = x*np.cos(theta) - z*np.sin(theta)\n",
    "    z_ = x*np.sin(theta) + z*np.cos(theta)\n",
    "    return x_, y, z_"
   ]
  },
  {
   "cell_type": "code",
   "execution_count": null,
   "metadata": {},
   "outputs": [],
   "source": [
    "%matplotlib notebook\n",
    "render_pointcloud_single(pointcloud_1, \"A random pointcloud\")"
   ]
  },
  {
   "cell_type": "code",
   "execution_count": null,
   "metadata": {},
   "outputs": [],
   "source": [
    "#from cgmcore.utils import render_pointcloud\n",
    "render_pointcloud_multiple(pointclouds, \"A random pointcloud\")"
   ]
  },
  {
   "cell_type": "code",
   "execution_count": null,
   "metadata": {},
   "outputs": [],
   "source": []
  }
 ],
 "metadata": {
  "kernelspec": {
   "display_name": "Python 3",
   "language": "python",
   "name": "python3"
  },
  "language_info": {
   "codemirror_mode": {
    "name": "ipython",
    "version": 3
   },
   "file_extension": ".py",
   "mimetype": "text/x-python",
   "name": "python",
   "nbconvert_exporter": "python",
   "pygments_lexer": "ipython3",
   "version": "3.6.5"
  }
 },
 "nbformat": 4,
 "nbformat_minor": 2
}
