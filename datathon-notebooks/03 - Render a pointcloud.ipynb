{
 "cells": [
  {
   "cell_type": "markdown",
   "metadata": {},
   "source": [
    "# ETL.\n",
    "\n",
    "ETL stands for \"extract, transform, load\" and it is exactly what it does. In our case the ETL takes the raw-data, which has been collected using the cell-phones out in the field, and transforms it in a way that makes Data Science easier. In regular intervals the ETL takes generates snapshots of the entire data and stores them in a folder with a timestamp."
   ]
  },
  {
   "cell_type": "code",
   "execution_count": null,
   "metadata": {},
   "outputs": [],
   "source": [
    "# This makes sure that you got access to the cgmcore-module\n",
    "import sys\n",
    "sys.path.insert(0, \"..\")"
   ]
  },
  {
   "cell_type": "markdown",
   "metadata": {},
   "source": [
    "# ETL-Data-Generator.\n",
    "\n",
    "Data-generators are a core concept of Keras (https://stanford.edu/~shervine/blog/keras-how-to-generate-data-on-the-fly). They allow for data-generation on the fly. This includes but is not limited to data-augmentation and data-preprocessing.\n",
    "\n",
    "Throughout the project we make extensive use of data-generators. The ETL-Data-Generator works explicitly on the data as provided by the ETL."
   ]
  },
  {
   "cell_type": "markdown",
   "metadata": {},
   "source": [
    "# Accessing the latest dataset.\n",
    "\n",
    "We provide means to retrieve the latest data-set-path as follows."
   ]
  },
  {
   "cell_type": "code",
   "execution_count": null,
   "metadata": {},
   "outputs": [],
   "source": [
    "from cgmcore.etldatagenerator import get_dataset_path\n",
    "\n",
    "dataset_path = get_dataset_path(\"../../data/etl\")\n",
    "print(\"Using daataset-path {}.\".format(dataset_path))"
   ]
  },
  {
   "cell_type": "markdown",
   "metadata": {},
   "source": [
    "# Finding all PCD-files."
   ]
  },
  {
   "cell_type": "code",
   "execution_count": null,
   "metadata": {},
   "outputs": [],
   "source": [
    "import glob2 as glob\n",
    "import os\n",
    "\n",
    "all_pcd_paths = glob.glob(os.path.join(dataset_path, \"**/*.pcd\"))\n",
    "print(\"Found {} PCD-files.\".format(len(all_pcd_paths)))"
   ]
  },
  {
   "cell_type": "markdown",
   "metadata": {},
   "source": [
    "# Selecting a random PCD-file."
   ]
  },
  {
   "cell_type": "code",
   "execution_count": null,
   "metadata": {},
   "outputs": [],
   "source": [
    "import random\n",
    "random_pcd_paths = []\n",
    "for i in range(0, 9):\n",
    "    random_pcd_path = random.choice(all_pcd_paths)\n",
    "    random_pcd_paths.append(random_pcd_path)\n",
    "    print(\"Using random PCD-path {}.\".format(random_pcd_path))"
   ]
  },
  {
   "cell_type": "markdown",
   "metadata": {},
   "source": [
    "# Loading the pointcloud as a numpy array.\n",
    "\n",
    "This is one of the many helper-functions provided by cgmcore.utils."
   ]
  },
  {
   "cell_type": "code",
   "execution_count": null,
   "metadata": {},
   "outputs": [],
   "source": [
    "from cgmcore.utils import load_pcd_as_ndarray\n",
    "\n",
    "pointclouds = []\n",
    "for i in range(0, 9):\n",
    "    pointcloud = load_pcd_as_ndarray(random_pcd_paths[i])\n",
    "    pointclouds.append(pointcloud)\n",
    "    print(\"Loaded pointcloud with shape {}.\".format(pointcloud.shape))"
   ]
  },
  {
   "cell_type": "markdown",
   "metadata": {},
   "source": [
    "# Rendering a pointcloud."
   ]
  },
  {
   "cell_type": "code",
   "execution_count": null,
   "metadata": {},
   "outputs": [],
   "source": [
    "import numpy as np\n",
    "\n",
    "def rotate(x, y, z, theta_deg):\n",
    "    theta = theta_deg*2*np.pi/360\n",
    "    x_ = x*np.cos(theta) - z*np.sin(theta)\n",
    "    z_ = x*np.sin(theta) + z*np.cos(theta)\n",
    "    return x_, y, z_"
   ]
  },
  {
   "cell_type": "code",
   "execution_count": null,
   "metadata": {},
   "outputs": [],
   "source": [
    "import matplotlib.pyplot as plt\n",
    "from mpl_toolkits.mplot3d import Axes3D\n",
    "\n",
    "def render_pointcloud_multiple(multiple_points, title=None):\n",
    "    \"\"\"\n",
    "    Renders a point-cloud.\n",
    "    \"\"\"\n",
    "\n",
    "    fig = plt.figure(figsize=(10, 10))\n",
    "    for i in range(0,4):\n",
    "        for j in range(0,2):\n",
    "            plt.subplot(4,2,i*2+j+1)\n",
    "            ax = fig.add_subplot(4*100+20+i*2+j+1, projection='3d')\n",
    "            points = multiple_points[2*i+j]\n",
    "            x, y, z = rotate(-points[:,1], points[:,2], points[:,0], 0)\n",
    "            ax.scatter(y, z, x, s=0.5, cmap=\"gray\", alpha=0.5)\n",
    "\n",
    "            ax.set_xlabel(\"y\")\n",
    "            ax.set_ylabel(\"z\")\n",
    "            ax.set_zlabel(\"x\")\n",
    "\n",
    "    if title != None:\n",
    "        plt.title(title)\n",
    "\n",
    "    plt.show()\n",
    "    plt.close()\n",
    "    \n",
    "def render_pointcloud_single(points, angle_deg, title=None):\n",
    "    \"\"\"\n",
    "    Renders a point-cloud.\n",
    "    \"\"\"\n",
    "\n",
    "    fig = plt.figure(figsize=(3, 3))\n",
    "    ax = fig.add_subplot(111, projection='3d')\n",
    "\n",
    "    x, y, z= rotate(points[:,0], -points[:,1], points[:,2] , angle_deg)\n",
    "    ax.scatter(x, y, z, s=0.5, cmap=\"gray\", alpha=0.5)\n",
    "\n",
    "    ax.set_xlabel(\"x\")\n",
    "    ax.set_ylabel(\"y\")\n",
    "    ax.set_zlabel(\"z\")\n",
    "\n",
    "    if title != None:\n",
    "        plt.title(title)\n",
    "\n",
    "    plt.show()\n",
    "    #plt.close()\n",
    "    \n",
    "def get_rotation(pointcloud):\n",
    "    y90, y95 = np.percentile(pointcloud[:,1], [90,95])\n",
    "    y5, y10 = np.percentile(pointcloud[:,1], [5,10])\n",
    "    x5, x10 = np.percentile(pointcloud[:,0], [5,10])\n",
    "\n",
    "    #print(x5, x10, y5, y10)\n",
    "\n",
    "    floor_points = []\n",
    "    x_max = -1\n",
    "    x_max_point = ()\n",
    "    x_min = 100\n",
    "    x_min_point = ()\n",
    "    for x, y, z, c in pointclouds[8]:\n",
    "        if x > x5 and x < x10 and y > y5 and y < y10:\n",
    "            if x > x_max:\n",
    "                x_max = x\n",
    "                x_max_point = (x, y, z)\n",
    "            if x < x_min:\n",
    "                x_min = x\n",
    "                x_min_point = (x, y, z)\n",
    "            floor_points.append((x, y, z))\n",
    "\n",
    "\n",
    "    angle = (x_max_point[0]-x_min_point[0])/(x_max_point[2]-x_min_point[2])\n",
    "    print(\"x_max\", x_max_point)\n",
    "    print(\"x_min\", x_min_point)\n",
    "    deg = np.arctan(angle)*360/(2*np.pi)\n",
    "    return deg"
   ]
  },
  {
   "cell_type": "code",
   "execution_count": null,
   "metadata": {},
   "outputs": [],
   "source": [
    "from sklearn.decomposition import PCA as sklearnPCA\n",
    "sklearn_pca = sklearnPCA(n_components=3)\n",
    "sklearn_pca.fit(pointclouds[5][:,0:3])\n",
    "print(sklearn_pca.components_)\n",
    "print(sklearn_pca.explained_variance_)\n",
    "#normal = np.cross(sklearn_pca.components_[0], sklearn_pca.components_[1])\n",
    "print(sklearn_pca.components_[0][0])\n",
    "theta = np.arctan(sklearn_pca.components_[0][2]/sklearn_pca.components_[0][0])*360/(2 * np.pi)\n",
    "print(theta)"
   ]
  },
  {
   "cell_type": "code",
   "execution_count": null,
   "metadata": {},
   "outputs": [],
   "source": [
    "#print(get_rotation(pointclouds[3]))\n",
    "render_pointcloud_single(pointclouds[5], -theta)"
   ]
  },
  {
   "cell_type": "code",
   "execution_count": null,
   "metadata": {},
   "outputs": [],
   "source": []
  },
  {
   "cell_type": "code",
   "execution_count": null,
   "metadata": {
    "scrolled": true
   },
   "outputs": [],
   "source": [
    "plt.hist(pointclouds[8][:,0])\n"
   ]
  },
  {
   "cell_type": "code",
   "execution_count": null,
   "metadata": {},
   "outputs": [],
   "source": [
    "%matplotlib"
   ]
  },
  {
   "cell_type": "code",
   "execution_count": null,
   "metadata": {},
   "outputs": [],
   "source": [
    "#render_pointcloud_single(pointclouds[8], \"A random pointcloud\")"
   ]
  },
  {
   "cell_type": "code",
   "execution_count": null,
   "metadata": {},
   "outputs": [],
   "source": [
    "#from cgmcore.utils import render_pointcloud\n",
    "render_pointcloud_multiple(pointclouds, \"A random pointcloud\")"
   ]
  },
  {
   "cell_type": "code",
   "execution_count": null,
   "metadata": {},
   "outputs": [],
   "source": []
  }
 ],
 "metadata": {
  "kernelspec": {
   "display_name": "Python 3",
   "language": "python",
   "name": "python3"
  },
  "language_info": {
   "codemirror_mode": {
    "name": "ipython",
    "version": 3
   },
   "file_extension": ".py",
   "mimetype": "text/x-python",
   "name": "python",
   "nbconvert_exporter": "python",
   "pygments_lexer": "ipython3",
   "version": "3.6.5"
  }
 },
 "nbformat": 4,
 "nbformat_minor": 2
}
