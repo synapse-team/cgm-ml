{
 "cells": [
  {
   "cell_type": "markdown",
   "metadata": {},
   "source": [
    "# Feature Extraction RGB-maps.\n",
    "\n",
    "Although it is perfectly feasible train Neural Networks on raw pointclouds, it is also possible and even advised to extract features by-hand. This notebooks shows how to map an arbitrary pointcloud to a RGB-map. The R channel contains heights, the G channel contains densities, and the B channel contains intensities."
   ]
  },
  {
   "cell_type": "markdown",
   "metadata": {},
   "source": [
    "# Load a random pointcloud from the ETL-data."
   ]
  },
  {
   "cell_type": "code",
   "execution_count": null,
   "metadata": {},
   "outputs": [],
   "source": [
    "# This makes sure that you got access to the cgmcore-module\n",
    "import sys\n",
    "sys.path.insert(0, \"..\")\n",
    "\n",
    "# Retrieving the latest ETL-data-path.\n",
    "from cgmcore.etldatagenerator import get_dataset_path\n",
    "dataset_path = get_dataset_path(\"../../data/etl\")\n",
    "print(\"Using daataset-path {}.\".format(dataset_path))\n",
    "\n",
    "# Getting all PCDs.\n",
    "import glob2 as glob\n",
    "import os\n",
    "all_pcd_paths = glob.glob(os.path.join(dataset_path, \"**/*.pcd\"))\n",
    "print(\"Found {} PCD-files.\".format(len(all_pcd_paths)))\n",
    "\n",
    "# Randomly selecting one PCD-path.\n",
    "import random\n",
    "random_pcd_path = random.choice(all_pcd_paths)\n",
    "print(\"Using random PCD-path {}.\".format(random_pcd_path))\n",
    "\n",
    "# Load the pointcloud from the PCD-path.\n",
    "from cgmcore.utils import load_pcd_as_ndarray\n",
    "pointcloud = load_pcd_as_ndarray(random_pcd_path)\n",
    "print(\"Loaded pointcloud with shape {}.\".format(pointcloud.shape))"
   ]
  },
  {
   "cell_type": "code",
   "execution_count": null,
   "metadata": {},
   "outputs": [],
   "source": [
    "from pyntcloud import PyntCloud\n",
    "\n",
    "human_face = PyntCloud.from_file(random_pcd_path)\n",
    "\n",
    "human_face.plot()"
   ]
  },
  {
   "cell_type": "markdown",
   "metadata": {},
   "source": [
    "# Map the pointcloud to a RGB-map.\n",
    "\n",
    "There are three relevant parameters. target_width and target_height specify the width and the heigth of the RGB-map. scale_factor on the other hand specifies how xyz-coordinates are supposed to be scaled."
   ]
  },
  {
   "cell_type": "code",
   "execution_count": null,
   "metadata": {},
   "outputs": [],
   "source": [
    "from cgmcore.utils import pointcloud_to_rgb_map\n",
    "\n",
    "rgb_map = pointcloud_to_rgb_map(pointcloud, target_width=128, target_height=128, scale_factor=1.0, axis=\"horizontal\")\n",
    "print(\"Shape of RGB-map is {}.\".format(rgb_map.shape))"
   ]
  },
  {
   "cell_type": "markdown",
   "metadata": {},
   "source": [
    "# Rendering the RGB-map.\n",
    "\n",
    "This basically renders RGB, heights, densities and intensities."
   ]
  },
  {
   "cell_type": "code",
   "execution_count": null,
   "metadata": {},
   "outputs": [],
   "source": [
    "from cgmcore.utils import show_rgb_map\n",
    "\n",
    "show_rgb_map(rgb_map)"
   ]
  }
 ],
 "metadata": {
  "kernelspec": {
   "display_name": "Python 3",
   "language": "python",
   "name": "python3"
  },
  "language_info": {
   "codemirror_mode": {
    "name": "ipython",
    "version": 3
   },
   "file_extension": ".py",
   "mimetype": "text/x-python",
   "name": "python",
   "nbconvert_exporter": "python",
   "pygments_lexer": "ipython3",
   "version": "3.6.5"
  }
 },
 "nbformat": 4,
 "nbformat_minor": 2
}
