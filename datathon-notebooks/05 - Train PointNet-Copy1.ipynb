{
 "cells": [
  {
   "cell_type": "markdown",
   "metadata": {},
   "source": [
    "# Train PointNet (https://arxiv.org/abs/1612.00593).\n",
    "\n",
    "This notebook shows you how to use the PreprocessedDataGenerator in order to train PointNet.\n",
    "\n",
    "The PreprocessedDataGenerator uses preprocessed-data instead of ETL-data. Wheras ETL-data comes mainly as PCD-files, preprocessed-data comes mainly as pointclouds stored as numpy-arrays. We identified PCD-loading as a bottleneck. "
   ]
  },
  {
   "cell_type": "code",
   "execution_count": null,
   "metadata": {},
   "outputs": [],
   "source": [
    "import sys\n",
    "sys.path.insert(0, \"..\")\n",
    "\n",
    "import numpy as np\n",
    "import os\n",
    "import random"
   ]
  },
  {
   "cell_type": "markdown",
   "metadata": {},
   "source": [
    "# Get the dataset path.\n",
    "\n",
    "This snippet shows you how to get the lates preprocessed path."
   ]
  },
  {
   "cell_type": "code",
   "execution_count": null,
   "metadata": {},
   "outputs": [],
   "source": [
    "from cgmcore.preprocesseddatagenerator import get_dataset_path\n",
    "\n",
    "dataset_path = \"../../preprocessed_trimmed/2018_07_31_10_52\"\n",
    "print(\"Using dataset path\", dataset_path)"
   ]
  },
  {
   "cell_type": "markdown",
   "metadata": {},
   "source": [
    "# Hyperparameters."
   ]
  },
  {
   "cell_type": "code",
   "execution_count": null,
   "metadata": {},
   "outputs": [],
   "source": [
    "steps_per_epoch = 20\n",
    "validation_steps = 10\n",
    "epochs = 20\n",
    "batch_size = 30\n",
    "random_seed = 300"
   ]
  },
  {
   "cell_type": "markdown",
   "metadata": {},
   "source": [
    "# Create data-generator.\n",
    "\n",
    "The method create_datagenerator_from_parameters is a convencience method. It allows you to instantiate a generator from a specification-dictionary."
   ]
  },
  {
   "cell_type": "code",
   "execution_count": null,
   "metadata": {},
   "outputs": [],
   "source": [
    "from cgmcore.preprocesseddatagenerator import create_datagenerator_from_parameters\n",
    "\n",
    "dataset_parameters_pointclouds = {}\n",
    "dataset_parameters_pointclouds[\"input_type\"] = \"pointcloud\"\n",
    "dataset_parameters_pointclouds[\"output_targets\"] = [\"height\"]\n",
    "dataset_parameters_pointclouds[\"random_seed\"] = random_seed\n",
    "dataset_parameters_pointclouds[\"pointcloud_target_size\"] = 10000\n",
    "dataset_parameters_pointclouds[\"pointcloud_random_rotation\"] = False\n",
    "dataset_parameters_pointclouds[\"sequence_length\"] = 0\n",
    "datagenerator_instance_pointclouds = create_datagenerator_from_parameters(dataset_path, dataset_parameters_pointclouds)"
   ]
  },
  {
   "cell_type": "markdown",
   "metadata": {},
   "source": [
    "# Getting the QR-Codes and do a train-validate-split.\n",
    "\n",
    "The data-generator is perfectly capable of retrieving all QR-codes from the dataset. This snipped shows how to do so and how to split the QR-codes into two sets: Train and validate."
   ]
  },
  {
   "cell_type": "code",
   "execution_count": null,
   "metadata": {},
   "outputs": [],
   "source": [
    "# Get the QR-codes.\n",
    "qrcodes_to_use = datagenerator_instance_pointclouds.qrcodes[0:1500]\n",
    "\n",
    "# Do the split.\n",
    "random.seed(random_seed)\n",
    "qrcodes_shuffle = qrcodes_to_use[:]\n",
    "random.shuffle(qrcodes_shuffle)\n",
    "split_index = int(0.8 * len(qrcodes_shuffle))\n",
    "qrcodes_train = sorted(qrcodes_shuffle[:split_index])\n",
    "qrcodes_validate = sorted(qrcodes_shuffle[split_index:])\n",
    "del qrcodes_shuffle\n",
    "print(\"QR-codes for training:\\n\", \"\\t\".join(qrcodes_train))\n",
    "print(\"QR-codes for validation:\\n\", \"\\t\".join(qrcodes_validate))"
   ]
  },
  {
   "cell_type": "markdown",
   "metadata": {},
   "source": [
    "# Creating python generators for training and validation.\n",
    "\n",
    "Now both QR-codes lists can be used for creating the actual generators. One for training and one for validation."
   ]
  },
  {
   "cell_type": "code",
   "execution_count": null,
   "metadata": {},
   "outputs": [],
   "source": [
    "# Create python generators.\n",
    "generator_pointclouds_train = datagenerator_instance_pointclouds.generate(size=batch_size, qrcodes_to_use=qrcodes_train)\n",
    "generator_pointclouds_validate = datagenerator_instance_pointclouds.generate(size=batch_size, qrcodes_to_use=qrcodes_validate)"
   ]
  },
  {
   "cell_type": "markdown",
   "metadata": {},
   "source": [
    "# Using the generator to create data manually.\n",
    "\n",
    "Of course you can use the generator to create data manually anytime."
   ]
  },
  {
   "cell_type": "code",
   "execution_count": null,
   "metadata": {},
   "outputs": [],
   "source": [
    "train_x, train_y = next(generator_pointclouds_train)\n",
    "print(\"Input-shape:\", train_x.shape)\n",
    "print(\"Output-shape:\", train_y.shape)"
   ]
  },
  {
   "cell_type": "markdown",
   "metadata": {},
   "source": [
    "# Training-details.\n",
    "\n",
    "Training-details are a dictionary that gets stored in a file after training. It is supposed to contain information that is valuable. For example data that is relevant for training including the hyper-parameters. Intended to be used when comparing different models."
   ]
  },
  {
   "cell_type": "code",
   "execution_count": null,
   "metadata": {},
   "outputs": [],
   "source": [
    "training_details = {\n",
    "    \"dataset_path\" : dataset_path,\n",
    "    \"qrcodes_train\" : qrcodes_train,\n",
    "    \"qrcodes_validate\" : qrcodes_validate,\n",
    "    \"steps_per_epoch\" : steps_per_epoch,\n",
    "    \"validation_steps\" : validation_steps,\n",
    "    \"epochs\" : epochs,\n",
    "    \"batch_size\" : batch_size,\n",
    "    \"random_seed\" : random_seed,\n",
    "}"
   ]
  },
  {
   "cell_type": "markdown",
   "metadata": {},
   "source": [
    "# Training PointNet.\n",
    "\n",
    "The module modelutils contains methods for creating Neural Nets. The following code shows how to instantiate and train PointNet."
   ]
  },
  {
   "cell_type": "code",
   "execution_count": null,
   "metadata": {},
   "outputs": [],
   "source": [
    "from cgmcore import modelutils\n",
    "from keras import optimizers\n",
    "\n",
    "input_shape = (dataset_parameters_pointclouds[\"pointcloud_target_size\"], 3)\n",
    "output_size = 1\n",
    "model_pointnet = modelutils.create_point_net_jgm(input_shape, output_size, hidden_sizes = [64])\n",
    "model_pointnet.summary()\n",
    "\n",
    "sgd =optimizers.SGD(lr=0.0001,decay=1e-6,momentum=0.5,nesterov=True)\n",
    "model_pointnet.compile(\n",
    "    optimizer=sgd,\n",
    "    loss=\"mse\",\n",
    "    metrics=[\"mae\"]\n",
    "    )\n",
    "\n",
    "history = model_pointnet.fit_generator(\n",
    "    generator_pointclouds_train,\n",
    "    steps_per_epoch=steps_per_epoch,\n",
    "    epochs=epochs,\n",
    "    validation_data=generator_pointclouds_validate,\n",
    "    validation_steps=validation_steps\n",
    "    )"
   ]
  },
  {
   "cell_type": "markdown",
   "metadata": {},
   "source": [
    "# Saving everything.\n",
    "\n",
    "This saves the model, its history and the training-details to some output directory. The created artifacts can later be uses in order to compare different models."
   ]
  },
  {
   "cell_type": "code",
   "execution_count": null,
   "metadata": {},
   "outputs": [],
   "source": [
    "output_path = \".\"\n",
    "\n",
    "modelutils.save_model_and_history(output_path, model_pointnet, history, training_details, \"pointnet\")"
   ]
  },
  {
   "cell_type": "code",
   "execution_count": null,
   "metadata": {},
   "outputs": [],
   "source": []
  }
 ],
 "metadata": {
  "kernelspec": {
   "display_name": "Python 3",
   "language": "python",
   "name": "python3"
  },
  "language_info": {
   "codemirror_mode": {
    "name": "ipython",
    "version": 3
   },
   "file_extension": ".py",
   "mimetype": "text/x-python",
   "name": "python",
   "nbconvert_exporter": "python",
   "pygments_lexer": "ipython3",
   "version": "3.6.5"
  }
 },
 "nbformat": 4,
 "nbformat_minor": 2
}
