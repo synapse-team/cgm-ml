{
 "cells": [
  {
   "cell_type": "markdown",
   "metadata": {},
   "source": [
    "# Comparing trained models.\n",
    "\n",
    "You can compare all your trained models by comparing their histories. Histories usually contain losses and (optionally) metrics. Both are good indicators about the size of the error of your nets."
   ]
  },
  {
   "cell_type": "markdown",
   "metadata": {},
   "source": [
    "# Import everything.\n",
    "\n",
    "The cgmcore-module provides a couple of helper-functions for comparing networks."
   ]
  },
  {
   "cell_type": "code",
   "execution_count": null,
   "metadata": {},
   "outputs": [],
   "source": [
    "import sys\n",
    "sys.path.insert(0, \"..\")\n",
    "\n",
    "from cgmcore.utils import find_timestamps_of_trained_models, find_all_history_paths\n"
   ]
  },
  {
   "cell_type": "markdown",
   "metadata": {},
   "source": [
    "# Get all the date-times.\n",
    "\n",
    "Usually different training results are tagged with individual timestamps. The following code finds all timestamps in a specified folder."
   ]
  },
  {
   "cell_type": "code",
   "execution_count": null,
   "metadata": {},
   "outputs": [],
   "source": [
    "date_times = find_timestamps_of_trained_models(\"../notebooks/results_plot/trimmed_untrimmed_comparison\")\n",
    "print(date_times)"
   ]
  },
  {
   "cell_type": "markdown",
   "metadata": {},
   "source": [
    "# Render the all histories for all date-times."
   ]
  },
  {
   "cell_type": "code",
   "execution_count": null,
   "metadata": {
    "scrolled": true
   },
   "outputs": [],
   "source": [
    "history_paths = find_all_history_paths(\"../notebooks/results_plot/trimmed_untrimmed_comparison\")\n",
    "import pickle\n",
    "import matplotlib.pyplot as plt\n",
    "\n",
    "def plot_date_times(date_times, all_history_paths, start_index, end_index = 100090, key_suffix=None):\n",
    "    for date_time in date_times:\n",
    "\n",
    "        # Load all histories for date-time.\n",
    "        history_paths = [history_path for history_path in all_history_paths if date_time in history_path]\n",
    "        histories = []\n",
    "        for history_path in history_paths:\n",
    "            history = pickle.load(open(history_path, \"rb\"))\n",
    "            histories.append(history)\n",
    "\n",
    "        # Plot the histories.\n",
    "        for history, history_path in zip(histories, history_paths):\n",
    "            split = history_path.split(\"/\")[-1].split(\"-\")\n",
    "            for key in history.keys():\n",
    "                if key_suffix != None and key_suffix in key:\n",
    "                    plt.plot(history[key][start_index:end_index], label=key + \" \" + split[2] + \" \" + date_time)\n",
    "    plt.ylim([0,15])\n",
    "    #plt.legend([\"Untrimmed Data Set\", \"Trimmed Data Set\"])\n",
    "    plt.legend()\n",
    "    plt.xlabel(\"History\")\n",
    "    plt.ylabel(\"Absolute error (cm)\")\n",
    "    plt.title(\"History Path\")\n",
    "    #plt.savefig(\"../notebooks/results_plot/fulldata_standing/zoomplot\")\n",
    "    #plt.savefig(\"../notebooks/results_plot/fulldata_standing/fullplot\")\n",
    "    plt.show()\n",
    "    plt.close()\n",
    "\n",
    "    \n",
    "plot_date_times(date_times, history_paths, start_index=0, end_index=100, key_suffix=\"fulldata_standing\")"
   ]
  },
  {
   "cell_type": "code",
   "execution_count": null,
   "metadata": {},
   "outputs": [],
   "source": []
  }
 ],
 "metadata": {
  "kernelspec": {
   "display_name": "Python 3",
   "language": "python",
   "name": "python3"
  },
  "language_info": {
   "codemirror_mode": {
    "name": "ipython",
    "version": 3
   },
   "file_extension": ".py",
   "mimetype": "text/x-python",
   "name": "python",
   "nbconvert_exporter": "python",
   "pygments_lexer": "ipython3",
   "version": "3.6.5"
  }
 },
 "nbformat": 4,
 "nbformat_minor": 2
}
